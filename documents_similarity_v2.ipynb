{
 "cells": [
  {
   "cell_type": "code",
   "execution_count": 1,
   "metadata": {
    "collapsed": false,
    "pycharm": {
     "name": "#%%\n"
    }
   },
   "outputs": [],
   "source": [
    "from french_lefff_lemmatizer.french_lefff_lemmatizer import FrenchLefffLemmatizer\n",
    "import pandas as pd\n",
    "import numpy as np\n",
    "from flask_app.function_api import load_dataset_similarity\n",
    "from gensim.models.doc2vec import Doc2Vec, TaggedDocument\n",
    "from sklearn.metrics.pairwise import cosine_similarity\n",
    "import pandas as pd\n",
    "pd.set_option(\"display.max_columns\", None)\n",
    "import sqlite3"
   ]
  },
  {
   "cell_type": "code",
   "execution_count": 12,
   "metadata": {},
   "outputs": [
    {
     "name": "stdout",
     "output_type": "stream",
     "text": [
      "5153\n",
      "6\n",
      "https://www.datagrandest.fr/data4citizen/d4c/api/datasets/2.0/search/start=1&rows=1000\n",
      "https://www.datagrandest.fr/data4citizen/d4c/api/datasets/2.0/search/start=1000&rows=1000\n",
      "https://www.datagrandest.fr/data4citizen/d4c/api/datasets/2.0/search/start=2000&rows=1000\n",
      "https://www.datagrandest.fr/data4citizen/d4c/api/datasets/2.0/search/start=3000&rows=1000\n",
      "https://www.datagrandest.fr/data4citizen/d4c/api/datasets/2.0/search/start=4000&rows=1000\n",
      "https://www.datagrandest.fr/data4citizen/d4c/api/datasets/2.0/search/start=5000&rows=153\n"
     ]
    },
    {
     "name": "stderr",
     "output_type": "stream",
     "text": [
      "/home/dimitri/Documents/code/python/projet_ia_datagrand/flask_app/function_api.py:208: FutureWarning: The default value of regex will change from True to False in a future version.\n",
      "  df_dataset_merge['documents'] = df_dataset_merge['documents'].str.replace(\n"
     ]
    }
   ],
   "source": [
    "df_documents = load_dataset_similarity()"
   ]
  },
  {
   "cell_type": "markdown",
   "metadata": {
    "collapsed": false,
    "pycharm": {
     "name": "#%% md\n"
    }
   },
   "source": [
    "## Test Doc2vec"
   ]
  },
  {
   "cell_type": "code",
   "execution_count": 23,
   "metadata": {
    "collapsed": false,
    "pycharm": {
     "name": "#%%\n"
    }
   },
   "outputs": [],
   "source": [
    "# Load doc2vec model\n",
    "model = Doc2Vec.load(\"w2d.model\")"
   ]
  },
  {
   "cell_type": "code",
   "execution_count": 10,
   "metadata": {
    "collapsed": false,
    "pycharm": {
     "name": "#%%\n"
    }
   },
   "outputs": [],
   "source": [
    "def most_similar(doc_id,similarity_matrix,matrix):\n",
    "    for i in range(len(dataframe)):\n",
    "        \n",
    "        if matrix=='Cosine Similarity':\n",
    "            similar_ix=np.argsort(similarity_matrix[doc_id])[::-1]\n",
    "        for ix in similar_ix:\n",
    "            if ix==doc_id:\n",
    "                continue\n",
    "            print (f'Document: {df_documents.iloc[doc_id][\"documents\"]}')\n",
    "            print ('\\n')\n",
    "            print ('Similar Documents:')\n",
    "            print('\\n')\n",
    "            print (f'Document: {df_documents.iloc[ix][\"documents\"]}')\n",
    "            print (f'{matrix} : {similarity_matrix[doc_id][ix]}')\n",
    "                    "
   ]
  },
  {
   "cell_type": "code",
   "execution_count": 19,
   "metadata": {},
   "outputs": [],
   "source": [
    "def most_similar(dataframe,similarity_matrix,matrix):\n",
    "    for i in range(len(dataframe)):\n",
    "        print(i)\n",
    "        with open('similarity_document.txt','a') as w:\n",
    "            w.write(f'Document sélectionner :')\n",
    "            w.write(\"\\n\")\n",
    "            w.write(f\"Document: {df_documents.iloc[i]['id']} {df_documents.iloc[i]['documents']}\\n\")\n",
    "            w.write(f\"url fiche sélectionner: {df_documents.iloc[i]['url']};\\n\")\n",
    "            w.write(\"\\n\")\n",
    "            w.write(\"Similar Documents:\")\n",
    "            if matrix==\"Cosine Similarity\":\n",
    "                similar_ix=np.argsort(similarity_matrix[i])[::-1]\n",
    "            for ix in similar_ix:\n",
    "                if ix == i:\n",
    "                    continue\n",
    "                elif similarity_matrix[i][ix]>= 0.90:   \n",
    "                    w.write(\"\\n\")\n",
    "                    w.write(str(f\"Document: {df_documents.iloc[ix]['id']} {df_documents.iloc[ix]['documents']}\\n\"))\n",
    "                    w.write(str(f\"url de la fiche: {df_documents.iloc[ix]['url']}\\n\"))\n",
    "                    w.write(str(f\"{matrix} : {similarity_matrix[i][ix]};\\n\"))\n",
    "                    w.write(\"\\n\")\n",
    "        "
   ]
  },
  {
   "cell_type": "code",
   "execution_count": null,
   "metadata": {},
   "outputs": [],
   "source": [
    "def most_similar(data,similarity_matrix,matrix):\n",
    "    df_document_select = pd.DataFrame(columns = ['id_fiche_select','documents_select','url_fiche_select','id_fiche_similar','doc_fiche_similar','url_document_similair','cosine similarity'])\n",
    "    # df_document_similarity = pd.DataFrame(columns = ['id','','documents','url','cosine similarity'])\n",
    "    for i in range(len(data)):\n",
    "            # df_documents_select_columns = df_document_select.columns[i]\n",
    "            df_document_select[['id_fiche_select','documents_select','url_fiche_select']] = [df_documents.iloc[i]['id'],df_documents.iloc[i]['documents'],df_documents.iloc[i]['url']]\n",
    "            print(df_document_select)\n",
    "            if matrix==\"Cosine Similarity\":\n",
    "                similar_ix=np.argsort(similarity_matrix[i])[::-1]\n",
    "            for ix in similar_ix:\n",
    "                if ix == i:\n",
    "                    continue \n",
    "                elif similarity_matrix[i][ix]>= 0.95:\n",
    "                    # df_documents_similar_columns = df_document_similarity.columns[i]\n",
    "                    df_document_select[['id_fiche_similar','doc_fiche_similar','url_fiche_similar','cosine similarity']] = [df_documents.iloc[ix]['id'],df_documents.iloc[ix]['documents'],df_documents.iloc[ix]['url'],similarity_matrix[i][ix]]\n",
    "    df_document_select.to_csv('df_documents_select.csv')"
   ]
  },
  {
   "cell_type": "code",
   "execution_count": 32,
   "metadata": {},
   "outputs": [],
   "source": [
    "# Test 2: Cosine Similarity\n",
    "def most_similar(data,similarity_matrix,matrix):\n",
    "    global df_merge_similar\n",
    "    # Create two list for append informations about documents we want to compare similarity and another list to append the value of similarity\n",
    "    results_fiche_select = []\n",
    "    results_fiche_similar = []\n",
    "    for i in range(len(data)):\n",
    "            print(i)\n",
    "        # Create a dictionnary with information about the document we want to compare similarity\n",
    "            dict_fiche_select = dict(id_fiche_select=data.iloc[i]['id'],url_fiche_select=data.iloc[i]['url'])\n",
    "            # Append the dictionnary to the list\n",
    "            results_fiche_select.append(dict_fiche_select)\n",
    "            # Test the similarity of documents \n",
    "            if matrix==\"Cosine Similarity\":\n",
    "                # Order results of cosine similarity in descending order\n",
    "                similar_ix=np.argsort(similarity_matrix[i])[::-1]\n",
    "            for ix in similar_ix:\n",
    "                if ix == i:\n",
    "                    continue \n",
    "                elif similarity_matrix[i][ix]>= 0.95:\n",
    "                    # df_documents_similar_columns = df_document_similarity.columns[i]\n",
    "                    dict_fiche_similar = dict(id_fiche_select=data.iloc[i]['id'],id_fiche_similar=data.iloc[ix]['id'],url_document_similair=data.iloc[ix]['url'],cosine_similarity=similarity_matrix[i][ix])\n",
    "                    results_fiche_similar.append(dict_fiche_similar)\n",
    "    df_fiche_select = pd.DataFrame(results_fiche_select)\n",
    "    df_fiche_similar = pd.DataFrame(results_fiche_similar)\n",
    "    df_fiche_select.to_csv('fiche_select.csv',index=False)\n",
    "    df_fiche_similar.to_csv('fiche_similar.csv',index=False)"
   ]
  },
  {
   "cell_type": "code",
   "execution_count": null,
   "metadata": {
    "collapsed": false,
    "pycharm": {
     "name": "#%%\n"
    }
   },
   "outputs": [],
   "source": [
    "from sentence_transformers import SentenceTransformer\n",
    "model = SentenceTransformer('all-MiniLM-L6-v2')\n",
    "sentences = df_documents['documents'].tolist()\n",
    "document_embeddings = model.encode(sentences,show_progress_bar=True)\n",
    "\n",
    "pairwise_similarities=cosine_similarity(document_embeddings)\n",
    "                                                         \n",
    "df_similar = most_similar(df_documents,pairwise_similarities,'Cosine Similarity')"
   ]
  },
  {
   "cell_type": "code",
   "execution_count": null,
   "metadata": {},
   "outputs": [],
   "source": [
    "display(df_similar)"
   ]
  },
  {
   "cell_type": "code",
   "execution_count": 8,
   "metadata": {},
   "outputs": [],
   "source": [
    "df_fiche_select = pd.read_csv('fiche_select.csv')\n",
    "df_fiche_similar = pd.read_csv('fiche_similar.csv')"
   ]
  },
  {
   "cell_type": "code",
   "execution_count": 29,
   "metadata": {},
   "outputs": [],
   "source": [
    "df_merge_similar = pd.merge(df_fiche_select,df_fiche_similar,on='id_fiche_select')\n",
    "df_merge_similar.drop(['documents_select','doc_fiche_similar'],axis=1,inplace=True)"
   ]
  },
  {
   "cell_type": "code",
   "execution_count": null,
   "metadata": {},
   "outputs": [],
   "source": [
    "display(df_merge_similar)"
   ]
  },
  {
   "cell_type": "code",
   "execution_count": null,
   "metadata": {},
   "outputs": [],
   "source": [
    "df_merge_similar.set_index(['id_fiche_select','url_fiche_select'])"
   ]
  },
  {
   "cell_type": "code",
   "execution_count": null,
   "metadata": {},
   "outputs": [],
   "source": [
    "display(df_merge_similar.head())"
   ]
  },
  {
   "cell_type": "code",
   "execution_count": 24,
   "metadata": {},
   "outputs": [
    {
     "name": "stderr",
     "output_type": "stream",
     "text": [
      "/tmp/ipykernel_6879/1183482337.py:1: FutureWarning: Indexing with multiple keys (implicitly converted to a tuple of keys) will be deprecated, use a list instead.\n",
      "  df_groupby = df_merge_similar.groupby(['id_fiche_select'])['id_fiche_similar','url_document_similair','cosine_similarity']\n"
     ]
    },
    {
     "data": {
      "text/html": [
       "<div><div id=2491afec-7b39-47d7-b980-79eddab72713 style=\"display:none; background-color:#9D6CFF; color:white; width:200px; height:30px; padding-left:5px; border-radius:4px; flex-direction:row; justify-content:space-around; align-items:center;\" onmouseover=\"this.style.backgroundColor='#BA9BF8'\" onmouseout=\"this.style.backgroundColor='#9D6CFF'\" onclick=\"window.commands?.execute('create-mitosheet-from-dataframe-output');\">See Full Dataframe in Mito</div> <script> if (window.commands.hasCommand('create-mitosheet-from-dataframe-output')) document.getElementById('2491afec-7b39-47d7-b980-79eddab72713').style.display = 'flex' </script> <table border=\"1\" class=\"dataframe\">\n",
       "  <thead>\n",
       "    <tr style=\"text-align: right;\">\n",
       "      <th></th>\n",
       "      <th>id_fiche_similar</th>\n",
       "      <th>url_document_similair</th>\n",
       "      <th>cosine_similarity</th>\n",
       "    </tr>\n",
       "    <tr>\n",
       "      <th>id_fiche_select</th>\n",
       "      <th></th>\n",
       "      <th></th>\n",
       "      <th></th>\n",
       "    </tr>\n",
       "  </thead>\n",
       "  <tbody>\n",
       "    <tr>\n",
       "      <th>0</th>\n",
       "      <td>3005</td>\n",
       "      <td>https://grandestprod-backoffice.data4citizen.com//dataset/zone-dalea-du-ppri-madon-amont</td>\n",
       "      <td>0.999256</td>\n",
       "    </tr>\n",
       "    <tr>\n",
       "      <th>1</th>\n",
       "      <td>554</td>\n",
       "      <td>https://grandestprod-backoffice.data4citizen.com//dataset/zones-reglementees-surfaces-du-ppri-moselle-centre</td>\n",
       "      <td>0.994170</td>\n",
       "    </tr>\n",
       "    <tr>\n",
       "      <th>2</th>\n",
       "      <td>1</td>\n",
       "      <td>https://grandestprod-backoffice.data4citizen.com//dataset/zones-reglementees-surfaces-du-ppri-madon-centre</td>\n",
       "      <td>0.990865</td>\n",
       "    </tr>\n",
       "    <tr>\n",
       "      <th>3</th>\n",
       "      <td>8</td>\n",
       "      <td>https://grandestprod-backoffice.data4citizen.com//dataset/perimetres-du-ppri-madon-amont</td>\n",
       "      <td>0.990452</td>\n",
       "    </tr>\n",
       "    <tr>\n",
       "      <th>4</th>\n",
       "      <td>2758</td>\n",
       "      <td>https://grandestprod-backoffice.data4citizen.com//dataset/perimetres-du-ppri-meuse</td>\n",
       "      <td>0.997781</td>\n",
       "    </tr>\n",
       "    <tr>\n",
       "      <th>...</th>\n",
       "      <td>...</td>\n",
       "      <td>...</td>\n",
       "      <td>...</td>\n",
       "    </tr>\n",
       "    <tr>\n",
       "      <th>5145</th>\n",
       "      <td>3432</td>\n",
       "      <td>https://grandestprod-backoffice.data4citizen.com//dataset/carte-ile-du-rohrschollen-en-1872</td>\n",
       "      <td>0.990914</td>\n",
       "    </tr>\n",
       "    <tr>\n",
       "      <th>5146</th>\n",
       "      <td>5141</td>\n",
       "      <td>https://grandestprod-backoffice.data4citizen.com//dataset/carte-ile-du-rohrschollen-en-1778</td>\n",
       "      <td>0.977001</td>\n",
       "    </tr>\n",
       "    <tr>\n",
       "      <th>5150</th>\n",
       "      <td>5152</td>\n",
       "      <td>https://grandestprod-backoffice.data4citizen.com//dataset/donnees-carte-surfacique-1991-1992-des-teneurs-en-nitrates-des-couches-superficelles-de-la-napp</td>\n",
       "      <td>0.973213</td>\n",
       "    </tr>\n",
       "    <tr>\n",
       "      <th>5151</th>\n",
       "      <td>5129</td>\n",
       "      <td>https://grandestprod-backoffice.data4citizen.com//dataset/donnees-carte-surfacique-2003-des-teneurs-en-nitrates-des-couches-superficelles-de-la-nappe-phr</td>\n",
       "      <td>0.995190</td>\n",
       "    </tr>\n",
       "    <tr>\n",
       "      <th>5152</th>\n",
       "      <td>5150</td>\n",
       "      <td>https://grandestprod-backoffice.data4citizen.com//dataset/donnees-carte-surfacique-2009-des-teneurs-en-nitrates-des-couches-superficelles-de-la-nappe-phr</td>\n",
       "      <td>0.973213</td>\n",
       "    </tr>\n",
       "  </tbody>\n",
       "</table></div>"
      ],
      "text/plain": [
       "                 id_fiche_similar  \\\n",
       "id_fiche_select                     \n",
       "0                            3005   \n",
       "1                             554   \n",
       "2                               1   \n",
       "3                               8   \n",
       "4                            2758   \n",
       "...                           ...   \n",
       "5145                         3432   \n",
       "5146                         5141   \n",
       "5150                         5152   \n",
       "5151                         5129   \n",
       "5152                         5150   \n",
       "\n",
       "                                             url_document_similair  \\\n",
       "id_fiche_select                                                      \n",
       "0                https://grandestprod-backoffice.data4citizen.c...   \n",
       "1                https://grandestprod-backoffice.data4citizen.c...   \n",
       "2                https://grandestprod-backoffice.data4citizen.c...   \n",
       "3                https://grandestprod-backoffice.data4citizen.c...   \n",
       "4                https://grandestprod-backoffice.data4citizen.c...   \n",
       "...                                                            ...   \n",
       "5145             https://grandestprod-backoffice.data4citizen.c...   \n",
       "5146             https://grandestprod-backoffice.data4citizen.c...   \n",
       "5150             https://grandestprod-backoffice.data4citizen.c...   \n",
       "5151             https://grandestprod-backoffice.data4citizen.c...   \n",
       "5152             https://grandestprod-backoffice.data4citizen.c...   \n",
       "\n",
       "                 cosine_similarity  \n",
       "id_fiche_select                     \n",
       "0                         0.999256  \n",
       "1                         0.994170  \n",
       "2                         0.990865  \n",
       "3                         0.990452  \n",
       "4                         0.997781  \n",
       "...                            ...  \n",
       "5145                      0.990914  \n",
       "5146                      0.977001  \n",
       "5150                      0.973213  \n",
       "5151                      0.995190  \n",
       "5152                      0.973213  \n",
       "\n",
       "[2803 rows x 3 columns]"
      ]
     },
     "execution_count": 24,
     "metadata": {},
     "output_type": "execute_result"
    }
   ],
   "source": [
    "df_groupby = df_merge_similar.groupby(['id_fiche_select'])['id_fiche_similar','url_document_similair','cosine_similarity']\n",
    "df_groupby.first()"
   ]
  },
  {
   "cell_type": "code",
   "execution_count": 13,
   "metadata": {},
   "outputs": [
    {
     "data": {
      "text/plain": [
       "<pandas.core.groupby.generic.DataFrameGroupBy object at 0x7f8d6e4524d0>"
      ]
     },
     "execution_count": 13,
     "metadata": {},
     "output_type": "execute_result"
    }
   ],
   "source": [
    "df_merge_similar.groupby(by='id_fiche_select')"
   ]
  },
  {
   "cell_type": "markdown",
   "metadata": {},
   "source": [
    "## Test import des données en texte"
   ]
  },
  {
   "cell_type": "code",
   "execution_count": null,
   "metadata": {},
   "outputs": [],
   "source": [
    "df_cosine_read_csv = pd.read_csv('similarity_document.txt',sep=';',engine='python')"
   ]
  },
  {
   "cell_type": "code",
   "execution_count": null,
   "metadata": {},
   "outputs": [],
   "source": [
    "df_cosine = pd.read_fwf('similarity_document.txt',header = None)"
   ]
  },
  {
   "cell_type": "code",
   "execution_count": null,
   "metadata": {},
   "outputs": [
    {
     "data": {
      "text/html": [
       "<div><div id=10696aa5-5103-4f17-b6a8-ae80a5bc397b style=\"display:none; background-color:#9D6CFF; color:white; width:200px; height:30px; padding-left:5px; border-radius:4px; flex-direction:row; justify-content:space-around; align-items:center;\" onmouseover=\"this.style.backgroundColor='#BA9BF8'\" onmouseout=\"this.style.backgroundColor='#9D6CFF'\" onclick=\"window.commands?.execute('create-mitosheet-from-dataframe-output');\">See Full Dataframe in Mito</div> <script> if (window.commands.hasCommand('create-mitosheet-from-dataframe-output')) document.getElementById('10696aa5-5103-4f17-b6a8-ae80a5bc397b').style.display = 'flex' </script> <table border=\"1\" class=\"dataframe\">\n",
       "  <thead>\n",
       "    <tr style=\"text-align: right;\">\n",
       "      <th></th>\n",
       "      <th>0</th>\n",
       "      <th>1</th>\n",
       "      <th>2</th>\n",
       "      <th>3</th>\n",
       "      <th>4</th>\n",
       "    </tr>\n",
       "  </thead>\n",
       "  <tbody>\n",
       "    <tr>\n",
       "      <th>0</th>\n",
       "      <td>Document sélectionner :</td>\n",
       "      <td>NaN</td>\n",
       "      <td>NaN</td>\n",
       "      <td>NaN</td>\n",
       "      <td>NaN</td>\n",
       "    </tr>\n",
       "    <tr>\n",
       "      <th>1</th>\n",
       "      <td>Document: 0 Table contenant les assiettes surfaciques liées aux servitudes de la catégorie AC1 (Monuments historiques) dans le Haut-RhinLes servitudes de catégorie AC1 concernent les servitudes de protection des monuments historiques classés ou inscrits :- Classement au titre des monuments historiques : ces servitudes concernent les immeubles ou les parties d'immeubles dont la conservation présente du point de vue de l'histoire ou de l'art un intérêt public. Les propriétaires d'immeubles classés ne peuvent effectuer de travaux de restauration, de réparation ou de modification sans autorisation préalable du préfet de région ou du ministre chargé de la culture. - Inscription au titre des monuments historiques : ces servitudes concernent les immeubles ou parties d'immeubles qui, sans justifier une demande de classement immédiat, présentent un intérêt d'histoire ou d'art suffisant pour en rendre désirable la préservation. Les propriétaires d'immeubles inscrits ne peuvent procéder à aucune modification sans déclaration préalable ; aucune autorisation d'urbanisme ne peut être délivrée sans accord préalable du préfet de région. - Immeubles adossés aux immeubles classés et immeubles situés dans le champ de visibilité des immeubles classés ou inscrits : Tout immeuble en contact avec un immeuble classé, en élévation, au sol ou en sous-sol est considéré comme immeuble adossé. Toute partie non protégée au titre des monuments historiques d'un immeuble partiellement classé est considérée comme immeuble adossé. Est considéré comme étant situé dans le champ de visibilité d'un immeuble classé ou inscrit, tout autre immeuble, nu ou bâti, visible du premier ou visible en même temps que lui est situé dans un périmètre déterminé par une distance de 500m du monument. Ce périmètre de 500m peut être modifié ou adapté : • le périmètre de protection adapté (PPA) : lorsqu'un immeuble non protégé fait l'objet d'une procédure d'inscription, de classement, ou d'instance de classement, l'architecte des bâtiments de France (ABF) peut proposer un périmètre de protection adapté en fonction de la nature de l'immeuble et de son environnement. • Le périmètre de protection modifié (PPM) : le périmètre institué autour d'un monument historique peut être modifié sur proposition de l'ABF. Cette ressource décrit les assiettes des servitudes de la catégorie AC1, à savoir tout ou partie d'un immeuble, ou un ou des périmètres définis autour du monument : • soit le rayon de 500 mètres fixé par la loi, • soit un périmètre étendu au-delà des 500 mètres ou au contraire réduit (bâtiments industriels, édicules ruraux, ...) ou encore spécifique (cône de vue, perspective</td>\n",
       "      <td>monumentale, ...), • soit un périmètre limité à des secteurs géographiques les plus sensibles ou étendu à des éléments de paysage situés au-delà des 500 mètres mais entretenant avec le monument une relation forte (perspective d'unevoie,</td>\n",
       "      <td>paysage</td>\n",
       "      <td>écrin,</td>\n",
       "      <td>...).</td>\n",
       "    </tr>\n",
       "    <tr>\n",
       "      <th>2</th>\n",
       "      <td>url fiche sélectionner: https://grandestprod-backoffice.data4citizen.com//dataset/table-contenant-les-assiettes-surfaciques-liees-aux-servitudes-de-la-categorie-ac1-monuments-hi;</td>\n",
       "      <td>NaN</td>\n",
       "      <td>NaN</td>\n",
       "      <td>NaN</td>\n",
       "      <td>NaN</td>\n",
       "    </tr>\n",
       "    <tr>\n",
       "      <th>3</th>\n",
       "      <td>Similar Documents:</td>\n",
       "      <td>NaN</td>\n",
       "      <td>NaN</td>\n",
       "      <td>NaN</td>\n",
       "      <td>NaN</td>\n",
       "    </tr>\n",
       "    <tr>\n",
       "      <th>4</th>\n",
       "      <td>Document: 2611 SUP AC1 - Servitudes relatives aux monuments historiques en Meurthe-et-MoselleLes servitudes de catégorie AC1 concernent les servitudes de protection des monuments historiques classés ou inscrits : - Classement au titre des monuments historiques : ces servitudes concernent les immeubles ou les parties d'immeubles dont la conservation présente du point de vue de l'histoire ou de l'art un intérêt public. Les propriétaires d'immeubles classés ne peuvent effectuer de travaux de restauration, de réparation ou de modification sans autorisation préalable du préfet de région ou du ministre chargé de la culture. - Inscription au titre des monuments historiques : ces servitudes concernent les immeubles ou parties d'immeubles qui, sans justifier une demande de classement immédiat, présentent un intérêt d'histoire ou d'art suffisant pour en rendre désirable la préservation. Les propriétaires d'immeubles inscrits ne peuvent procéder à aucune modification sans déclaration préalable ; aucune autorisation d'urbanisme ne peut être délivrée sans accord préalable du préfet de région. - Immeubles adossés aux immeubles classés et immeubles situés dans le champ de visibilité des immeubles classés ou inscrits : Tout immeuble en contact avec un immeuble classé, en élévation, au sol ou en sous-sol est considéré comme immeuble adossé. Toute partie non protégée au titre des monuments historiques d'un immeuble partiellement classé est considérée comme immeuble adossé. Est considéré comme étant situé dans le champ de visibilité d'un immeuble classé ou inscrit, tout autre immeuble, nu ou bâti, visible du premier ou visible en même temps que lui est situé dans un périmètre déterminé par une distance de 500m du monument. Ce périmètre de 500m peut être modifié ou adapté : • le périmètre de protection adapté (PPA) : lorsqu'un immeuble non protégé fait l'objet d'une procédure d'inscription, de classement, ou d'instance de classement, l'architecte des bâtiments de France (ABF) peut proposer un périmètre de protection adapté en fonction de la nature de l'immeuble et de son environnement. • Le périmètre de protection modifié (PPM) : le périmètre institué autour d'un monument historique peut être modifié sur proposition de l'ABF. Cette ressource décrit les générateurs surfaciques des servitudes de la catégorie AC1, à savoir les emprises de monuments ou de parties de monument classés ou inscrits ou classés et inscrits.</td>\n",
       "      <td>NaN</td>\n",
       "      <td>NaN</td>\n",
       "      <td>NaN</td>\n",
       "      <td>NaN</td>\n",
       "    </tr>\n",
       "    <tr>\n",
       "      <th>...</th>\n",
       "      <td>...</td>\n",
       "      <td>...</td>\n",
       "      <td>...</td>\n",
       "      <td>...</td>\n",
       "      <td>...</td>\n",
       "    </tr>\n",
       "    <tr>\n",
       "      <th>543001</th>\n",
       "      <td>url de la fiche: https://grandestprod-backoffice.data4citizen.com//dataset/donnees-carte-surfacique-1997-des-teneurs-en-nitrates-des-couches-superficelles-de-la-nappe-phr</td>\n",
       "      <td>NaN</td>\n",
       "      <td>NaN</td>\n",
       "      <td>NaN</td>\n",
       "      <td>NaN</td>\n",
       "    </tr>\n",
       "    <tr>\n",
       "      <th>543002</th>\n",
       "      <td>Cosine Similarity : 0.9709542393684387;</td>\n",
       "      <td>NaN</td>\n",
       "      <td>NaN</td>\n",
       "      <td>NaN</td>\n",
       "      <td>NaN</td>\n",
       "    </tr>\n",
       "    <tr>\n",
       "      <th>543003</th>\n",
       "      <td>Document: 2841 DONNEES : Carte 1983 des teneurs en NITRATES des couches superficelles de la nappe phréatique de la plaine d'AlsaceInventaire 1983 de la qualité des eaux souterraines dans le Fossé rhénan supérieur (M.O. Région Alsace)</td>\n",
       "      <td>NaN</td>\n",
       "      <td>NaN</td>\n",
       "      <td>NaN</td>\n",
       "      <td>NaN</td>\n",
       "    </tr>\n",
       "    <tr>\n",
       "      <th>543004</th>\n",
       "      <td>url de la fiche: https://grandestprod-backoffice.data4citizen.com//dataset/donnees-carte-1983-des-teneurs-en-nitrates-des-couches-superficelles-de-la-nappe-phreatique-de-</td>\n",
       "      <td>NaN</td>\n",
       "      <td>NaN</td>\n",
       "      <td>NaN</td>\n",
       "      <td>NaN</td>\n",
       "    </tr>\n",
       "    <tr>\n",
       "      <th>543005</th>\n",
       "      <td>Cosine Similarity : 0.9415812492370605;</td>\n",
       "      <td>NaN</td>\n",
       "      <td>NaN</td>\n",
       "      <td>NaN</td>\n",
       "      <td>NaN</td>\n",
       "    </tr>\n",
       "  </tbody>\n",
       "</table></div>"
      ],
      "text/plain": [
       "                                                        0  \\\n",
       "0                                 Document sélectionner :   \n",
       "1       Document: 0 Table contenant les assiettes surf...   \n",
       "2       url fiche sélectionner: https://grandestprod-b...   \n",
       "3                                      Similar Documents:   \n",
       "4       Document: 2611 SUP AC1 - Servitudes relatives ...   \n",
       "...                                                   ...   \n",
       "543001  url de la fiche: https://grandestprod-backoffi...   \n",
       "543002            Cosine Similarity : 0.9709542393684387;   \n",
       "543003  Document: 2841 DONNEES : Carte 1983 des teneur...   \n",
       "543004  url de la fiche: https://grandestprod-backoffi...   \n",
       "543005            Cosine Similarity : 0.9415812492370605;   \n",
       "\n",
       "                                                        1        2       3  \\\n",
       "0                                                     NaN      NaN     NaN   \n",
       "1       monumentale, ...), • soit un périmètre limité ...  paysage  écrin,   \n",
       "2                                                     NaN      NaN     NaN   \n",
       "3                                                     NaN      NaN     NaN   \n",
       "4                                                     NaN      NaN     NaN   \n",
       "...                                                   ...      ...     ...   \n",
       "543001                                                NaN      NaN     NaN   \n",
       "543002                                                NaN      NaN     NaN   \n",
       "543003                                                NaN      NaN     NaN   \n",
       "543004                                                NaN      NaN     NaN   \n",
       "543005                                                NaN      NaN     NaN   \n",
       "\n",
       "            4  \n",
       "0         NaN  \n",
       "1       ...).  \n",
       "2         NaN  \n",
       "3         NaN  \n",
       "4         NaN  \n",
       "...       ...  \n",
       "543001    NaN  \n",
       "543002    NaN  \n",
       "543003    NaN  \n",
       "543004    NaN  \n",
       "543005    NaN  \n",
       "\n",
       "[543006 rows x 5 columns]"
      ]
     },
     "metadata": {},
     "output_type": "display_data"
    }
   ],
   "source": [
    "display(df_cosine)"
   ]
  },
  {
   "cell_type": "code",
   "execution_count": null,
   "metadata": {},
   "outputs": [],
   "source": []
  }
 ],
 "metadata": {
  "interpreter": {
   "hash": "7cbc01641c6b231ce49ba9a898eb1ed70caed18cb88c7d77bcfe2267936ef4ff"
  },
  "kernelspec": {
   "display_name": "Python 3.10.0 ('projet_ia_datagrandest')",
   "language": "python",
   "name": "python3"
  },
  "language_info": {
   "codemirror_mode": {
    "name": "ipython",
    "version": 3
   },
   "file_extension": ".py",
   "mimetype": "text/x-python",
   "name": "python",
   "nbconvert_exporter": "python",
   "pygments_lexer": "ipython3",
   "version": "3.10.0"
  },
  "orig_nbformat": 4
 },
 "nbformat": 4,
 "nbformat_minor": 2
}
